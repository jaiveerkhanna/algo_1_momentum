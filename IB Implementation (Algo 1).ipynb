{
 "cells": [
  {
   "cell_type": "markdown",
   "metadata": {},
   "source": [
    "# Implementation of Algorithm 1 (Long Only) using Interactive Brokers "
   ]
  },
  {
   "cell_type": "markdown",
   "metadata": {},
   "source": [
    "### Introduction "
   ]
  },
  {
   "cell_type": "markdown",
   "metadata": {},
   "source": [
    "The following code uses Algo 1, which has been rigorously backtested (see Backtester Notebook). The code is to be run once a week. Essentialy, the code uses Algo 1 to rank the stocks of the SP100 and selects the top 10. It then evaluates the current positions of my portfolio, selling the stocks that are no longer in the top 10, and purchasing the new additions, as well as rebalancing the portfolio to make sure it is equally weighted. \n",
    "\n",
    "Notes:\n",
    "1. While I initially used an easier method of buying/selling (market order), I have now created buy/sell functions that use limit orders, starting at the ask/bid price respectively and subsequently increasing/decreasing the price until my order is filled.\n",
    "\n",
    "\n",
    "2. Looking ahead, I want to automate the entire process so that the user does not need to manually run this script every week.\n",
    "\n",
    "\n",
    "3. I also intend on building in more functions to track historical progress and see more performance metrics (especially on the efficiency of my buying/selling and the effect of transaction costs).\n",
    "\n",
    "\n",
    "4. In a few weeks I hope to transition to live trading!"
   ]
  },
  {
   "cell_type": "markdown",
   "metadata": {},
   "source": [
    "# Basic Imports"
   ]
  },
  {
   "cell_type": "code",
   "execution_count": 1,
   "metadata": {},
   "outputs": [],
   "source": [
    "import numpy as np\n",
    "import pandas as pd\n",
    "import talib\n",
    "import datetime\n",
    "import yfinance as yf"
   ]
  },
  {
   "cell_type": "markdown",
   "metadata": {},
   "source": [
    "### Get list of S&P 100"
   ]
  },
  {
   "cell_type": "code",
   "execution_count": 2,
   "metadata": {},
   "outputs": [],
   "source": [
    "wiki = pd.read_html('https://en.wikipedia.org/wiki/S%26P_100')\n",
    "SP100 = wiki[2]['Symbol'].values.tolist()\n",
    "\n",
    "#Temporary Fix to tweak Berkshire Hathaway Name and remove Dow Inc.\n",
    "SP100[18] = 'BRK-B'"
   ]
  },
  {
   "cell_type": "markdown",
   "metadata": {},
   "source": [
    "# Variables"
   ]
  },
  {
   "cell_type": "code",
   "execution_count": 3,
   "metadata": {},
   "outputs": [],
   "source": [
    "STOCKS = SP100[:]\n",
    "BENCHMARK = '^OEX'\n",
    "\n",
    "UNIVERSE_SIZE = len(STOCKS)\n",
    "\n",
    "#Technicals Creator Variables\n",
    "EMAduration = 10\n",
    "SMAduration = 100\n",
    "RSIduration = 14\n",
    "MACDfast= 12\n",
    "MACDslow= 26\n",
    "MACDsignal= 9\n",
    "MFIduration = 14\n",
    "RSIcutoff = 20 # distance from 50 (e.g. for cutoff 20, RSI range is 30-70)\n",
    "MFIcutoff = 30 # distance from 50 (e.g. for cutoff 30, MFI range is 30-70)\n",
    "basket_size = 10\n",
    "\n",
    "start_index= max(EMAduration,SMAduration,RSIduration,MACDfast,MACDslow,MACDsignal,MFIduration,RSIcutoff,MFIcutoff)\n",
    "\n",
    "#Dataset Start and End Dates\n",
    "end = datetime.datetime.today().date()\n",
    "start = end - datetime.timedelta(start_index+80)\n",
    "\n"
   ]
  },
  {
   "cell_type": "markdown",
   "metadata": {},
   "source": [
    "# Download Data"
   ]
  },
  {
   "cell_type": "code",
   "execution_count": 4,
   "metadata": {
    "scrolled": true
   },
   "outputs": [
    {
     "name": "stdout",
     "output_type": "stream",
     "text": [
      "[*********************100%***********************]  101 of 101 completed\n",
      "[*********************100%***********************]  1 of 1 completed\n"
     ]
    }
   ],
   "source": [
    "universe = yf.download(STOCKS, start, end) #,auto_adjust=True)\n",
    "benchmark = yf.download(BENCHMARK, start, end) # Chicago Options index of SP100"
   ]
  },
  {
   "cell_type": "markdown",
   "metadata": {},
   "source": [
    "# Basic Data Cleaning"
   ]
  },
  {
   "cell_type": "markdown",
   "metadata": {},
   "source": [
    "### Check for NaNs / Correct Them"
   ]
  },
  {
   "cell_type": "code",
   "execution_count": 5,
   "metadata": {},
   "outputs": [
    {
     "data": {
      "text/plain": [
       "0"
      ]
     },
     "execution_count": 5,
     "metadata": {},
     "output_type": "execute_result"
    }
   ],
   "source": [
    "universe.isna().sum().sum()"
   ]
  },
  {
   "cell_type": "code",
   "execution_count": 6,
   "metadata": {},
   "outputs": [],
   "source": [
    " universe = universe.fillna(method='bfill')"
   ]
  },
  {
   "cell_type": "code",
   "execution_count": 7,
   "metadata": {
    "scrolled": true
   },
   "outputs": [
    {
     "data": {
      "text/plain": [
       "0"
      ]
     },
     "execution_count": 7,
     "metadata": {},
     "output_type": "execute_result"
    }
   ],
   "source": [
    "#Check that the backfill was successful\n",
    "universe.isna().sum().sum()"
   ]
  },
  {
   "cell_type": "code",
   "execution_count": 8,
   "metadata": {},
   "outputs": [],
   "source": [
    "close = universe['Adj Close']"
   ]
  },
  {
   "cell_type": "code",
   "execution_count": 9,
   "metadata": {
    "scrolled": true
   },
   "outputs": [
    {
     "data": {
      "text/html": [
       "<div>\n",
       "<style scoped>\n",
       "    .dataframe tbody tr th:only-of-type {\n",
       "        vertical-align: middle;\n",
       "    }\n",
       "\n",
       "    .dataframe tbody tr th {\n",
       "        vertical-align: top;\n",
       "    }\n",
       "\n",
       "    .dataframe thead th {\n",
       "        text-align: right;\n",
       "    }\n",
       "</style>\n",
       "<table border=\"1\" class=\"dataframe\">\n",
       "  <thead>\n",
       "    <tr style=\"text-align: right;\">\n",
       "      <th></th>\n",
       "      <th>AAPL</th>\n",
       "      <th>ABBV</th>\n",
       "      <th>ABT</th>\n",
       "      <th>ACN</th>\n",
       "      <th>ADBE</th>\n",
       "      <th>AIG</th>\n",
       "      <th>ALL</th>\n",
       "      <th>AMGN</th>\n",
       "      <th>AMT</th>\n",
       "      <th>AMZN</th>\n",
       "      <th>...</th>\n",
       "      <th>UNH</th>\n",
       "      <th>UNP</th>\n",
       "      <th>UPS</th>\n",
       "      <th>USB</th>\n",
       "      <th>V</th>\n",
       "      <th>VZ</th>\n",
       "      <th>WBA</th>\n",
       "      <th>WFC</th>\n",
       "      <th>WMT</th>\n",
       "      <th>XOM</th>\n",
       "    </tr>\n",
       "  </thead>\n",
       "  <tbody>\n",
       "    <tr>\n",
       "      <th>count</th>\n",
       "      <td>126.000000</td>\n",
       "      <td>126.000000</td>\n",
       "      <td>126.000000</td>\n",
       "      <td>126.000000</td>\n",
       "      <td>126.000000</td>\n",
       "      <td>126.000000</td>\n",
       "      <td>126.000000</td>\n",
       "      <td>126.000000</td>\n",
       "      <td>126.000000</td>\n",
       "      <td>126.000000</td>\n",
       "      <td>...</td>\n",
       "      <td>126.000000</td>\n",
       "      <td>126.000000</td>\n",
       "      <td>126.000000</td>\n",
       "      <td>126.000000</td>\n",
       "      <td>126.000000</td>\n",
       "      <td>126.000000</td>\n",
       "      <td>126.000000</td>\n",
       "      <td>126.000000</td>\n",
       "      <td>126.000000</td>\n",
       "      <td>126.000000</td>\n",
       "    </tr>\n",
       "    <tr>\n",
       "      <th>mean</th>\n",
       "      <td>333.241353</td>\n",
       "      <td>87.884501</td>\n",
       "      <td>89.985724</td>\n",
       "      <td>195.441045</td>\n",
       "      <td>385.284604</td>\n",
       "      <td>29.033572</td>\n",
       "      <td>95.461850</td>\n",
       "      <td>227.009050</td>\n",
       "      <td>245.052081</td>\n",
       "      <td>2530.697459</td>\n",
       "      <td>...</td>\n",
       "      <td>285.310649</td>\n",
       "      <td>161.884776</td>\n",
       "      <td>108.423078</td>\n",
       "      <td>35.931523</td>\n",
       "      <td>183.910084</td>\n",
       "      <td>55.481825</td>\n",
       "      <td>42.069411</td>\n",
       "      <td>27.276482</td>\n",
       "      <td>122.939435</td>\n",
       "      <td>42.515504</td>\n",
       "    </tr>\n",
       "    <tr>\n",
       "      <th>std</th>\n",
       "      <td>67.899340</td>\n",
       "      <td>9.183697</td>\n",
       "      <td>8.777439</td>\n",
       "      <td>25.709568</td>\n",
       "      <td>55.040388</td>\n",
       "      <td>4.965410</td>\n",
       "      <td>7.019816</td>\n",
       "      <td>18.595458</td>\n",
       "      <td>18.285441</td>\n",
       "      <td>474.049642</td>\n",
       "      <td>...</td>\n",
       "      <td>26.352951</td>\n",
       "      <td>18.118714</td>\n",
       "      <td>21.268895</td>\n",
       "      <td>3.343257</td>\n",
       "      <td>15.394186</td>\n",
       "      <td>2.225234</td>\n",
       "      <td>2.517376</td>\n",
       "      <td>3.746787</td>\n",
       "      <td>6.999130</td>\n",
       "      <td>4.110305</td>\n",
       "    </tr>\n",
       "    <tr>\n",
       "      <th>min</th>\n",
       "      <td>223.361542</td>\n",
       "      <td>62.785870</td>\n",
       "      <td>62.314651</td>\n",
       "      <td>142.522415</td>\n",
       "      <td>285.000000</td>\n",
       "      <td>18.589884</td>\n",
       "      <td>72.825378</td>\n",
       "      <td>179.810318</td>\n",
       "      <td>177.601761</td>\n",
       "      <td>1676.609985</td>\n",
       "      <td>...</td>\n",
       "      <td>194.024353</td>\n",
       "      <td>113.403679</td>\n",
       "      <td>84.735802</td>\n",
       "      <td>28.257315</td>\n",
       "      <td>135.308548</td>\n",
       "      <td>48.859943</td>\n",
       "      <td>37.489182</td>\n",
       "      <td>22.437664</td>\n",
       "      <td>102.715675</td>\n",
       "      <td>30.254938</td>\n",
       "    </tr>\n",
       "    <tr>\n",
       "      <th>25%</th>\n",
       "      <td>281.571243</td>\n",
       "      <td>82.478334</td>\n",
       "      <td>85.751501</td>\n",
       "      <td>175.233204</td>\n",
       "      <td>338.332489</td>\n",
       "      <td>25.254228</td>\n",
       "      <td>92.662500</td>\n",
       "      <td>216.313278</td>\n",
       "      <td>235.195808</td>\n",
       "      <td>2197.482605</td>\n",
       "      <td>...</td>\n",
       "      <td>277.005043</td>\n",
       "      <td>149.389256</td>\n",
       "      <td>93.357382</td>\n",
       "      <td>33.880733</td>\n",
       "      <td>173.369667</td>\n",
       "      <td>54.122215</td>\n",
       "      <td>40.256303</td>\n",
       "      <td>25.002849</td>\n",
       "      <td>118.550125</td>\n",
       "      <td>41.122902</td>\n",
       "    </tr>\n",
       "    <tr>\n",
       "      <th>50%</th>\n",
       "      <td>317.996658</td>\n",
       "      <td>90.095367</td>\n",
       "      <td>91.111282</td>\n",
       "      <td>197.371887</td>\n",
       "      <td>384.445007</td>\n",
       "      <td>29.737845</td>\n",
       "      <td>95.764999</td>\n",
       "      <td>230.119194</td>\n",
       "      <td>249.454346</td>\n",
       "      <td>2454.965088</td>\n",
       "      <td>...</td>\n",
       "      <td>290.695007</td>\n",
       "      <td>165.306786</td>\n",
       "      <td>99.773155</td>\n",
       "      <td>36.160000</td>\n",
       "      <td>191.091125</td>\n",
       "      <td>55.773674</td>\n",
       "      <td>41.578566</td>\n",
       "      <td>26.155516</td>\n",
       "      <td>123.173618</td>\n",
       "      <td>42.771214</td>\n",
       "    </tr>\n",
       "    <tr>\n",
       "      <th>75%</th>\n",
       "      <td>377.212364</td>\n",
       "      <td>95.451784</td>\n",
       "      <td>95.683537</td>\n",
       "      <td>218.472084</td>\n",
       "      <td>437.062508</td>\n",
       "      <td>31.787501</td>\n",
       "      <td>99.171673</td>\n",
       "      <td>239.658432</td>\n",
       "      <td>258.613297</td>\n",
       "      <td>3006.735107</td>\n",
       "      <td>...</td>\n",
       "      <td>303.593155</td>\n",
       "      <td>174.212498</td>\n",
       "      <td>114.535339</td>\n",
       "      <td>37.437499</td>\n",
       "      <td>195.267300</td>\n",
       "      <td>57.150709</td>\n",
       "      <td>43.118512</td>\n",
       "      <td>28.091166</td>\n",
       "      <td>129.206318</td>\n",
       "      <td>44.392941</td>\n",
       "    </tr>\n",
       "    <tr>\n",
       "      <th>max</th>\n",
       "      <td>503.429993</td>\n",
       "      <td>100.830002</td>\n",
       "      <td>102.519997</td>\n",
       "      <td>238.210007</td>\n",
       "      <td>484.429993</td>\n",
       "      <td>42.434875</td>\n",
       "      <td>113.877289</td>\n",
       "      <td>259.213684</td>\n",
       "      <td>271.290009</td>\n",
       "      <td>3346.489990</td>\n",
       "      <td>...</td>\n",
       "      <td>323.700012</td>\n",
       "      <td>194.899994</td>\n",
       "      <td>160.350006</td>\n",
       "      <td>47.040176</td>\n",
       "      <td>208.100006</td>\n",
       "      <td>59.570000</td>\n",
       "      <td>51.624607</td>\n",
       "      <td>41.453659</td>\n",
       "      <td>135.600006</td>\n",
       "      <td>53.680988</td>\n",
       "    </tr>\n",
       "  </tbody>\n",
       "</table>\n",
       "<p>8 rows × 101 columns</p>\n",
       "</div>"
      ],
      "text/plain": [
       "             AAPL        ABBV         ABT         ACN        ADBE         AIG  \\\n",
       "count  126.000000  126.000000  126.000000  126.000000  126.000000  126.000000   \n",
       "mean   333.241353   87.884501   89.985724  195.441045  385.284604   29.033572   \n",
       "std     67.899340    9.183697    8.777439   25.709568   55.040388    4.965410   \n",
       "min    223.361542   62.785870   62.314651  142.522415  285.000000   18.589884   \n",
       "25%    281.571243   82.478334   85.751501  175.233204  338.332489   25.254228   \n",
       "50%    317.996658   90.095367   91.111282  197.371887  384.445007   29.737845   \n",
       "75%    377.212364   95.451784   95.683537  218.472084  437.062508   31.787501   \n",
       "max    503.429993  100.830002  102.519997  238.210007  484.429993   42.434875   \n",
       "\n",
       "              ALL        AMGN         AMT         AMZN  ...         UNH  \\\n",
       "count  126.000000  126.000000  126.000000   126.000000  ...  126.000000   \n",
       "mean    95.461850  227.009050  245.052081  2530.697459  ...  285.310649   \n",
       "std      7.019816   18.595458   18.285441   474.049642  ...   26.352951   \n",
       "min     72.825378  179.810318  177.601761  1676.609985  ...  194.024353   \n",
       "25%     92.662500  216.313278  235.195808  2197.482605  ...  277.005043   \n",
       "50%     95.764999  230.119194  249.454346  2454.965088  ...  290.695007   \n",
       "75%     99.171673  239.658432  258.613297  3006.735107  ...  303.593155   \n",
       "max    113.877289  259.213684  271.290009  3346.489990  ...  323.700012   \n",
       "\n",
       "              UNP         UPS         USB           V          VZ         WBA  \\\n",
       "count  126.000000  126.000000  126.000000  126.000000  126.000000  126.000000   \n",
       "mean   161.884776  108.423078   35.931523  183.910084   55.481825   42.069411   \n",
       "std     18.118714   21.268895    3.343257   15.394186    2.225234    2.517376   \n",
       "min    113.403679   84.735802   28.257315  135.308548   48.859943   37.489182   \n",
       "25%    149.389256   93.357382   33.880733  173.369667   54.122215   40.256303   \n",
       "50%    165.306786   99.773155   36.160000  191.091125   55.773674   41.578566   \n",
       "75%    174.212498  114.535339   37.437499  195.267300   57.150709   43.118512   \n",
       "max    194.899994  160.350006   47.040176  208.100006   59.570000   51.624607   \n",
       "\n",
       "              WFC         WMT         XOM  \n",
       "count  126.000000  126.000000  126.000000  \n",
       "mean    27.276482  122.939435   42.515504  \n",
       "std      3.746787    6.999130    4.110305  \n",
       "min     22.437664  102.715675   30.254938  \n",
       "25%     25.002849  118.550125   41.122902  \n",
       "50%     26.155516  123.173618   42.771214  \n",
       "75%     28.091166  129.206318   44.392941  \n",
       "max     41.453659  135.600006   53.680988  \n",
       "\n",
       "[8 rows x 101 columns]"
      ]
     },
     "execution_count": 9,
     "metadata": {},
     "output_type": "execute_result"
    }
   ],
   "source": [
    "close.describe()"
   ]
  },
  {
   "cell_type": "markdown",
   "metadata": {},
   "source": [
    "# Create Indicators"
   ]
  },
  {
   "cell_type": "markdown",
   "metadata": {},
   "source": [
    "EMA: Exponential Moving Average"
   ]
  },
  {
   "cell_type": "code",
   "execution_count": 10,
   "metadata": {},
   "outputs": [],
   "source": [
    "ema = close.apply(lambda c: talib.EMA(c, EMAduration))"
   ]
  },
  {
   "cell_type": "markdown",
   "metadata": {},
   "source": [
    "SMA: Simple Moving Average"
   ]
  },
  {
   "cell_type": "code",
   "execution_count": 11,
   "metadata": {},
   "outputs": [],
   "source": [
    "sma = close.apply(lambda c: talib.SMA(c, SMAduration))"
   ]
  },
  {
   "cell_type": "markdown",
   "metadata": {},
   "source": [
    "RSI: Relative Strength Index"
   ]
  },
  {
   "cell_type": "code",
   "execution_count": 12,
   "metadata": {},
   "outputs": [],
   "source": [
    "rsi = close.apply(lambda c: talib.RSI(c, RSIduration))"
   ]
  },
  {
   "cell_type": "markdown",
   "metadata": {},
   "source": [
    "MACD: Moving Average Convergence Divergence"
   ]
  },
  {
   "cell_type": "code",
   "execution_count": 13,
   "metadata": {},
   "outputs": [],
   "source": [
    "#MACD is the Moving Average Convergence Divergence. MACD Signal is a n day EMA of the MACD.\n",
    "#The difference between MACD and MACD Signal can be used as signal, therefore, need to track both\n",
    "\n",
    "macd = pd.DataFrame()\n",
    "macdsignal = pd.DataFrame()\n",
    "for stock in close:\n",
    "    tmacd, tmacdsignal, tmacdhist = talib.MACD(close[stock] , MACDfast, MACDslow, MACDsignal)\n",
    "    macd[stock] = tmacd\n",
    "    macdsignal[stock] = tmacdsignal"
   ]
  },
  {
   "cell_type": "markdown",
   "metadata": {},
   "source": [
    "MFI: Money Flow Index"
   ]
  },
  {
   "cell_type": "code",
   "execution_count": 14,
   "metadata": {
    "scrolled": true
   },
   "outputs": [],
   "source": [
    "mfi = pd.DataFrame()\n",
    "for stock in close:\n",
    "    tmfi = talib.MFI(universe['High'][stock], universe['Low'][stock], close[stock], universe['Volume'][stock], timeperiod = MFIduration)\n",
    "    mfi[stock] = tmfi"
   ]
  },
  {
   "cell_type": "markdown",
   "metadata": {},
   "source": [
    "# Normalize Indicators for Ranking Stock"
   ]
  },
  {
   "cell_type": "markdown",
   "metadata": {},
   "source": [
    "### EMA Ranking"
   ]
  },
  {
   "cell_type": "markdown",
   "metadata": {},
   "source": [
    "EMA Ranking Overview:\n",
    "  \n",
    "    Buy --> When Close Price is Greater than EMA\n",
    "    Sell --> When Close Price is Less than EMA\n",
    "    \n",
    "    Normalize: The percentage difference between Close Price and EMA"
   ]
  },
  {
   "cell_type": "code",
   "execution_count": 15,
   "metadata": {},
   "outputs": [],
   "source": [
    "emasignal = (close-ema)/close*100"
   ]
  },
  {
   "cell_type": "markdown",
   "metadata": {},
   "source": [
    "### SMA Ranking"
   ]
  },
  {
   "cell_type": "markdown",
   "metadata": {},
   "source": [
    "SMA Ranking Overview:\n",
    "\n",
    "    Buy --> When EMA is Greater than SMA\n",
    "    Sell --> When EMA is Less than SMA\n",
    "\n",
    "    Normalize: The percentage difference between EMA and SMA"
   ]
  },
  {
   "cell_type": "code",
   "execution_count": 16,
   "metadata": {
    "scrolled": true
   },
   "outputs": [],
   "source": [
    "smasignal = (ema - sma)/sma*100"
   ]
  },
  {
   "cell_type": "markdown",
   "metadata": {},
   "source": [
    "### RSI Ranking"
   ]
  },
  {
   "cell_type": "markdown",
   "metadata": {},
   "source": [
    "RSI Ranking Overview:\n",
    "\n",
    "    Buy --> When RSI is <30\n",
    "    Sell --> When RSI is >70\n",
    "    \n",
    "    Normalize: RSI should be already normalized because it is a stock's strength RELATIVE to it. For now we will process RSI into a score with the following criteria:\n",
    "        \n",
    "           30-70 will be a straight 0\n",
    "           The buy and sell ranges will be -30 to +30"
   ]
  },
  {
   "cell_type": "code",
   "execution_count": 17,
   "metadata": {},
   "outputs": [],
   "source": [
    "def rsicheck(c):\n",
    "    if c > (50+RSIcutoff): # Check if RSI indicates overbought\n",
    "        return -(c-50-RSIcutoff)   #returns a negative value range -30 to 0 indicating sell ()  \n",
    "    elif c < (50-RSIcutoff): # Check if RSI indicates oversold\n",
    "        return -(c-50+RSIcutoff) #returns a positive value range 0 to 30 indicating buy \n",
    "    else:\n",
    "        return 0 # Do not use RSI as an indicator within 50 +- cutoff\n",
    "    \n",
    "rsisignal = rsi\n",
    "\n",
    "for stock in rsisignal:\n",
    "    rsisignal[stock] = rsisignal[stock].apply(lambda c: rsicheck(c))"
   ]
  },
  {
   "cell_type": "markdown",
   "metadata": {},
   "source": [
    "### MACD Ranking"
   ]
  },
  {
   "cell_type": "markdown",
   "metadata": {},
   "source": [
    "MACD Ranking Overview:\n",
    "\n",
    "    Explanation: \n",
    "    1. The MACD is taken by subtracting the long EMA from short EMA\n",
    "    2. The MACD Signal (named MACDsignal) is an EMA of the MACD\n",
    "\n",
    "    Buy --> When MACD > MACD Signal\n",
    "    Sell --> When MACD is < MACD Signal\n",
    "\n",
    "    Normalize: Percent Difference between MACD and MACD Signal"
   ]
  },
  {
   "cell_type": "code",
   "execution_count": 18,
   "metadata": {},
   "outputs": [],
   "source": [
    "macdscore = (macd-macdsignal)/macdsignal*100"
   ]
  },
  {
   "cell_type": "markdown",
   "metadata": {},
   "source": [
    "### MFI Ranking"
   ]
  },
  {
   "cell_type": "markdown",
   "metadata": {},
   "source": [
    "MFI Ranking Overview:\n",
    "\n",
    "    Buy --> When MFI <20\n",
    "    Sell --> When MFI is >80\n",
    "\n",
    "    Normalize: MFI should already be normalized"
   ]
  },
  {
   "cell_type": "code",
   "execution_count": 19,
   "metadata": {},
   "outputs": [],
   "source": [
    "def mficheck(c):\n",
    "    if c > (50+MFIcutoff): # Check if MFI indicates overbought\n",
    "        return -(c-50-MFIcutoff)   #returns a negative value range -20 to 0 indicating sell ()  \n",
    "    elif c < (50-MFIcutoff): # Check if MFI indicates oversold\n",
    "        return -(c-50+MFIcutoff) #returns a positive value range 0 to 20 indicating buy \n",
    "    else:\n",
    "        return 0 # Do not use MFI as an indicator within 50 +- cutoff\n",
    "    \n",
    "mfisignal = mfi\n",
    "\n",
    "for stock in mfisignal:\n",
    "    mfisignal[stock] = mfisignal[stock].apply(lambda c: mficheck(c))"
   ]
  },
  {
   "cell_type": "markdown",
   "metadata": {},
   "source": [
    "# Rank Stocks for Today "
   ]
  },
  {
   "cell_type": "code",
   "execution_count": 20,
   "metadata": {},
   "outputs": [],
   "source": [
    "def StockRank(date):\n",
    "    \n",
    "    #STEP 1: Filter half of  by equally weighting MFI and RSI (e.g. Identify Oversold Stock)\n",
    "    score1 = mfisignal+rsisignal\n",
    "    step1 = score1.loc[date].sort_values(ascending = False)\n",
    "    step1 = step1.iloc[:UNIVERSE_SIZE//2]\n",
    "    # print(score1.loc[date])\n",
    "    # print(step1)\n",
    "    filteredList = step1.index\n",
    "    # print(filteredList)\n",
    "   \n",
    "    \n",
    "    #STEP 2: Rank remaining stocks based on equal weightage of EMA, SMA, and MACD\n",
    "    score2 = emasignal + smasignal + macdscore\n",
    "    step2 = score2[filteredList].loc[date].sort_values(ascending=False)\n",
    "    return(step2[:basket_size])"
   ]
  },
  {
   "cell_type": "code",
   "execution_count": 21,
   "metadata": {},
   "outputs": [],
   "source": [
    "target = StockRank(datetime.datetime.now().date()-datetime.timedelta(1))"
   ]
  },
  {
   "cell_type": "code",
   "execution_count": 1,
   "metadata": {},
   "outputs": [
    {
     "ename": "NameError",
     "evalue": "name 'target' is not defined",
     "output_type": "error",
     "traceback": [
      "\u001b[0;31m---------------------------------------------------------------------------\u001b[0m",
      "\u001b[0;31mNameError\u001b[0m                                 Traceback (most recent call last)",
      "\u001b[0;32m<ipython-input-1-f076184a2dfa>\u001b[0m in \u001b[0;36m<module>\u001b[0;34m\u001b[0m\n\u001b[0;32m----> 1\u001b[0;31m \u001b[0mprint\u001b[0m\u001b[0;34m(\u001b[0m\u001b[0mtarget\u001b[0m\u001b[0;34m)\u001b[0m\u001b[0;34m\u001b[0m\u001b[0;34m\u001b[0m\u001b[0m\n\u001b[0m",
      "\u001b[0;31mNameError\u001b[0m: name 'target' is not defined"
     ]
    }
   ],
   "source": [
    "print(target)"
   ]
  },
  {
   "cell_type": "markdown",
   "metadata": {},
   "source": [
    "# Establish Connection "
   ]
  },
  {
   "cell_type": "code",
   "execution_count": 23,
   "metadata": {},
   "outputs": [],
   "source": [
    "from ib_insync import *"
   ]
  },
  {
   "cell_type": "code",
   "execution_count": 24,
   "metadata": {},
   "outputs": [],
   "source": [
    "util.startLoop()"
   ]
  },
  {
   "cell_type": "code",
   "execution_count": 25,
   "metadata": {
    "scrolled": false
   },
   "outputs": [],
   "source": [
    "ib = IB()\n",
    "ib.connect('127.0.0.1', 7497, clientId=1)\n",
    "\n",
    "#For paper trading account, must use Delayed/Frozen Data which is selected with integer 4\n",
    "ib.reqMarketDataType(4)"
   ]
  },
  {
   "cell_type": "markdown",
   "metadata": {},
   "source": [
    "# Helper Functions "
   ]
  },
  {
   "cell_type": "markdown",
   "metadata": {},
   "source": [
    "### Buy (Limit) "
   ]
  },
  {
   "cell_type": "code",
   "execution_count": 26,
   "metadata": {},
   "outputs": [],
   "source": [
    "#Important Note: Soemtimes trade executes aboce Ask price\n",
    "#Probably due to delayed market data\n",
    "\n",
    "def purchase_stock(stock, quantity):\n",
    "    contract = Stock(stock, 'SMART', 'USD')\n",
    "    ib.qualifyContracts(contract)\n",
    "    \n",
    "    ticker = ib.reqMktData(contract, genericTickList = '221, 225, 233')\n",
    "    \n",
    "    #sleep for 0.01 seconds to allow ticker to update\n",
    "    ib.sleep(0.01)\n",
    "    \n",
    "    price = ticker.bid\n",
    "    order = LimitOrder('BUY', quantity, price)\n",
    "    trade = ib.placeOrder(contract, order)\n",
    "    \n",
    "    ib.sleep(3)\n",
    "    while trade.isDone() == False:\n",
    "        ib.cancelOrder(order)\n",
    "        price += 0.1\n",
    "        order = LimitOrder('BUY', quantity, price)\n",
    "        trade = ib.placeOrder(contract, order)\n",
    "        ib.sleep(3)"
   ]
  },
  {
   "cell_type": "markdown",
   "metadata": {},
   "source": [
    "### Sell (Limit)"
   ]
  },
  {
   "cell_type": "code",
   "execution_count": 27,
   "metadata": {},
   "outputs": [],
   "source": [
    "#Important Note: Soemtimes trade executes aboce Ask price\n",
    "#Probably due to delayed market data\n",
    "\n",
    "def sell_stock(stock, quantity):\n",
    "    contract = Stock(stock, 'SMART', 'USD')\n",
    "    ib.qualifyContracts(contract)\n",
    "    \n",
    "    ticker = ib.reqMktData(contract, genericTickList = '221, 225, 233')\n",
    "    \n",
    "    #sleep for 0.01 seconds to allow ticker to update\n",
    "    ib.sleep(0.01)\n",
    "    \n",
    "    price = ticker.ask\n",
    "    order = LimitOrder('SELL', quantity, price)\n",
    "    trade = ib.placeOrder(contract, order)\n",
    "    \n",
    "    ib.sleep(3)\n",
    "    while trade.isDone() == False:\n",
    "        ib.cancelOrder(order)\n",
    "        price -= 0.1\n",
    "        order = LimitOrder('SELL', quantity, price)\n",
    "        trade = ib.placeOrder(contract, order)\n",
    "        ib.sleep(3)"
   ]
  },
  {
   "cell_type": "markdown",
   "metadata": {},
   "source": [
    "### Get Portfolio Positions "
   ]
  },
  {
   "cell_type": "code",
   "execution_count": 28,
   "metadata": {},
   "outputs": [],
   "source": [
    "def update_portfolio():\n",
    "    global portfolio\n",
    "    portfolio = pd.DataFrame()\n",
    "    portfolio.insert(0, 'Index', ['Quantity','AvgCost','MktPrice', 'MktValue'])\n",
    "    portfolio.set_index('Index',inplace = True)\n",
    "    portfolio[:] = 0  \n",
    "    ib_portfolio = ib.portfolio()\n",
    "    for item in ib_portfolio:\n",
    "        stock_name = item.contract.symbol\n",
    "        stock_quantity = item.position\n",
    "        stock_averageCost = item.averageCost\n",
    "        stock_marketPrice = item.marketPrice\n",
    "        stock_marketValue = item.marketValue\n",
    "        portfolio[stock_name] = [stock_quantity, stock_averageCost,\n",
    "                                 stock_marketPrice, stock_marketValue]"
   ]
  },
  {
   "cell_type": "markdown",
   "metadata": {},
   "source": [
    "### Liquidate"
   ]
  },
  {
   "cell_type": "code",
   "execution_count": 30,
   "metadata": {},
   "outputs": [],
   "source": [
    "def liquidate(target):\n",
    "        update_portfolio()\n",
    "        overlap_stock = []\n",
    "        \n",
    "        for stock in portfolio:\n",
    "            #If you own the stock and it is not going to be repurchased --> fully liquidate position\n",
    "            if portfolio[stock]['Quantity'] > 0 and stock not in target.index:\n",
    "                sell_stock(stock, portfolio[stock]['Quantity'])\n",
    "            \n",
    "            #Figure out which shares are 'overlapping'\n",
    "            elif stock in target.index:\n",
    "                overlap_stock.append(stock)\n",
    "       \n",
    "        #accountSummary[19] returns net liquidation value of portfolio\n",
    "        net_value = float(ib.accountSummary()[53].value)\n",
    "        part = net_value/basket_size\n",
    "                \n",
    "        for stock in overlap_stock:\n",
    "            #If your position is greater than its allocated percentage (part), sell off the excess\n",
    "            if (portfolio[stock]['MktValue'] > part):\n",
    "                balanced_quantity = part // portfolio[stock]['MktPrice']\n",
    "                sell_quantity = portfolio[stock]['Quantity'] - balanced_quantity\n",
    "                sell_stock(stock, sell_quantity)\n",
    "        update_portfolio()\n",
    "        print(overlap_stock)\n",
    "    "
   ]
  },
  {
   "cell_type": "markdown",
   "metadata": {},
   "source": [
    "### Purchase"
   ]
  },
  {
   "cell_type": "code",
   "execution_count": 31,
   "metadata": {},
   "outputs": [],
   "source": [
    " def purchaser(target):\n",
    "        update_portfolio()\n",
    "        net_value = float(ib.accountSummary()[53].value)\n",
    "        part = net_value/basket_size\n",
    "        \n",
    "        for stock in target.index:\n",
    "            #Only purchase NEW stock (ignore overlapped stock)\n",
    "            if stock not in portfolio:\n",
    "                #Calculate amount using last availible close price\n",
    "                buy_quantity = part // close[stock].iloc[-1]\n",
    "                purchase_stock(stock, buy_quantity)\n",
    "            elif stock in portfolio:\n",
    "                if (portfolio[stock]['MktValue'] < part):\n",
    "                    balanced_quantity = part // portfolio[stock]['MktPrice']\n",
    "                    buy_quantity = balanced_quantity - portfolio[stock]['Quantity'] \n",
    "                    purchase_stock(stock, buy_quantity)\n",
    "                    \n",
    "        update_portfolio()"
   ]
  },
  {
   "cell_type": "markdown",
   "metadata": {},
   "source": [
    "# Main Program "
   ]
  },
  {
   "cell_type": "code",
   "execution_count": 32,
   "metadata": {
    "scrolled": false
   },
   "outputs": [
    {
     "name": "stdout",
     "output_type": "stream",
     "text": [
      "Current Portfolio:\n",
      "                  ADBE           AIG            BK           CRM  \\\n",
      "Index                                                              \n",
      "Quantity    191.000000   3416.000000   2686.000000    362.000000   \n",
      "AvgCost     497.181847     29.336131     36.110874    254.137776   \n",
      "MktPrice    523.205566     28.895998     36.666378    272.116058   \n",
      "MktValue  99932.260000  98708.730000  98485.890000  98506.010000   \n",
      "\n",
      "                  CSCO           CVX           EXC            GM  \\\n",
      "Index                                                              \n",
      "Quantity   2357.000000   1161.000000   2688.000000   3382.000000   \n",
      "AvgCost      42.176102     85.240228     36.819572     28.639873   \n",
      "MktPrice     41.956001     85.093994     36.666000     29.156000   \n",
      "MktValue  98890.300000  98794.130000  98558.210000  98605.590000   \n",
      "\n",
      "                   JNJ           XOM  \n",
      "Index                                 \n",
      "Quantity    654.000000   2449.000000  \n",
      "AvgCost     152.029611     40.580133  \n",
      "MktPrice    151.056000     40.313999  \n",
      "MktValue  98790.620000  98728.980000  \n",
      "Target Stocks are:  BK      193.532564\n",
      "EXC     157.242855\n",
      "CVX     126.417846\n",
      "ADBE     59.661398\n",
      "CRM      59.276601\n",
      "AIG      54.478637\n",
      "XOM      52.925183\n",
      "CSCO     45.324898\n",
      "JNJ      41.158044\n",
      "GM       40.976720\n",
      "Name: 2020-08-25 00:00:00, dtype: float64\n",
      "Step 1: Liquidate Old Positions\n",
      "['ADBE', 'AIG', 'BK', 'CRM', 'CSCO', 'CVX', 'EXC', 'GM', 'JNJ', 'XOM']\n",
      "/-----Step 1 Completed-----/\n",
      "Step 2: Purchase New Positions\n"
     ]
    },
    {
     "name": "stderr",
     "output_type": "stream",
     "text": [
      "Error 321, reqId 313: Error validating request:-'bN' : cause - The size value cannot be zero:\n",
      "Canceled order: Trade(contract=Stock(conId=5684, symbol='CVX', exchange='SMART', primaryExchange='NYSE', currency='USD', localSymbol='CVX', tradingClass='CVX'), order=LimitOrder(orderId=313, clientId=1, action='BUY', lmtPrice=85.17), orderStatus=OrderStatus(orderId=313, status='Cancelled', filled=0, remaining=0, avgFillPrice=0.0, permId=0, parentId=0, lastFillPrice=0.0, clientId=0, whyHeld='', mktCapPrice=0.0), fills=[], log=[TradeLogEntry(time=datetime.datetime(2020, 8, 26, 15, 45, 18, 419304, tzinfo=datetime.timezone.utc), status='PendingSubmit', message=''), TradeLogEntry(time=datetime.datetime(2020, 8, 26, 15, 45, 18, 419964, tzinfo=datetime.timezone.utc), status='Cancelled', message=\"Error 321, reqId 313: Error validating request:-'bN' : cause - The size value cannot be zero:\")])\n",
      "Error 321, reqId 316: Error validating request:-'bN' : cause - The size value cannot be zero:\n",
      "Canceled order: Trade(contract=Stock(conId=265768, symbol='ADBE', exchange='SMART', primaryExchange='NASDAQ', currency='USD', localSymbol='ADBE', tradingClass='NMS'), order=LimitOrder(orderId=316, clientId=1, action='BUY', lmtPrice=516.68), orderStatus=OrderStatus(orderId=316, status='Cancelled', filled=0, remaining=0, avgFillPrice=0.0, permId=0, parentId=0, lastFillPrice=0.0, clientId=0, whyHeld='', mktCapPrice=0.0), fills=[], log=[TradeLogEntry(time=datetime.datetime(2020, 8, 26, 15, 45, 19, 663737, tzinfo=datetime.timezone.utc), status='PendingSubmit', message=''), TradeLogEntry(time=datetime.datetime(2020, 8, 26, 15, 45, 19, 664341, tzinfo=datetime.timezone.utc), status='Cancelled', message=\"Error 321, reqId 316: Error validating request:-'bN' : cause - The size value cannot be zero:\")])\n",
      "Error 321, reqId 339: Error validating request:-'bN' : cause - The size value cannot be zero:\n",
      "Canceled order: Trade(contract=Stock(conId=8719, symbol='JNJ', exchange='SMART', primaryExchange='NYSE', currency='USD', localSymbol='JNJ', tradingClass='JNJ'), order=LimitOrder(orderId=339, clientId=1, action='BUY', lmtPrice=150.91), orderStatus=OrderStatus(orderId=339, status='Cancelled', filled=0, remaining=0, avgFillPrice=0.0, permId=0, parentId=0, lastFillPrice=0.0, clientId=0, whyHeld='', mktCapPrice=0.0), fills=[], log=[TradeLogEntry(time=datetime.datetime(2020, 8, 26, 15, 45, 35, 829994, tzinfo=datetime.timezone.utc), status='PendingSubmit', message=''), TradeLogEntry(time=datetime.datetime(2020, 8, 26, 15, 45, 35, 830794, tzinfo=datetime.timezone.utc), status='Cancelled', message=\"Error 321, reqId 339: Error validating request:-'bN' : cause - The size value cannot be zero:\")])\n"
     ]
    },
    {
     "name": "stdout",
     "output_type": "stream",
     "text": [
      "/-----Step 2 Completed-----/\n",
      "                  ADBE           AIG            BK           CRM  \\\n",
      "Index                                                              \n",
      "Quantity    188.000000   3420.000000   2695.000000    363.000000   \n",
      "AvgCost     497.181847     29.335937     36.113146    254.190096   \n",
      "MktPrice    522.559326     28.906095     36.674000    272.032501   \n",
      "MktValue  98241.150000  98858.850000  98836.430000  98747.800000   \n",
      "\n",
      "                  CSCO           CVX           EXC            GM  \\\n",
      "Index                                                              \n",
      "Quantity   2355.000000   1161.000000   2695.000000   3382.000000   \n",
      "AvgCost      42.176102     85.240228     36.819555     28.639873   \n",
      "MktPrice     41.973999     85.143997     36.680000     29.170000   \n",
      "MktValue  98848.770000  98852.180000  98852.600000  98652.940000   \n",
      "\n",
      "                   JNJ           XOM  \n",
      "Index                                 \n",
      "Quantity    654.000000   2451.000000  \n",
      "AvgCost     152.029611     40.580260  \n",
      "MktPrice    151.074005     40.324001  \n",
      "MktValue  98802.400000  98834.130000  \n"
     ]
    }
   ],
   "source": [
    "update_portfolio()\n",
    "print(\"Current Portfolio:\")\n",
    "print(portfolio)\n",
    "\n",
    "print(\"Target Stocks are: \", target)\n",
    "\n",
    "print(\"Step 1: Liquidate Old Positions\")\n",
    "liquidate(target)\n",
    "\n",
    "print(\"/-----Step 1 Completed-----/\")\n",
    "\n",
    "print(\"Step 2: Purchase New Positions\")\n",
    "purchaser(target)\n",
    "\n",
    "print(\"/-----Step 2 Completed-----/\")\n",
    "\n",
    "update_portfolio()\n",
    "print(portfolio)"
   ]
  },
  {
   "cell_type": "markdown",
   "metadata": {},
   "source": [
    "# Disconnect "
   ]
  },
  {
   "cell_type": "code",
   "execution_count": 33,
   "metadata": {},
   "outputs": [],
   "source": [
    "ib.disconnect()"
   ]
  },
  {
   "cell_type": "markdown",
   "metadata": {},
   "source": [
    "# Old Buy/Sell Functions (Market)"
   ]
  },
  {
   "cell_type": "markdown",
   "metadata": {},
   "source": [
    "### Buy Function (Market)"
   ]
  },
  {
   "cell_type": "code",
   "execution_count": null,
   "metadata": {},
   "outputs": [],
   "source": [
    "def purchase_stock(stock, quantity):\n",
    "    contract = Stock(stock, 'SMART', 'USD')\n",
    "    ib.qualifyContracts(contract)\n",
    "    order = MarketOrder('BUY', quantity)\n",
    "    \n",
    "    trade = ib.placeOrder(contract, order)"
   ]
  },
  {
   "cell_type": "markdown",
   "metadata": {},
   "source": [
    "### Sell Function (Market)"
   ]
  },
  {
   "cell_type": "code",
   "execution_count": null,
   "metadata": {},
   "outputs": [],
   "source": [
    "def sell_stock(stock, quantity):\n",
    "    contract = Stock(stock, 'SMART', 'USD')\n",
    "    ib.qualifyContracts(contract)\n",
    "    order = MarketOrder('SELL', quantity)\n",
    "    \n",
    "    trade = ib.placeOrder(contract, order)"
   ]
  }
 ],
 "metadata": {
  "kernelspec": {
   "display_name": "Python 3",
   "language": "python",
   "name": "python3"
  },
  "language_info": {
   "codemirror_mode": {
    "name": "ipython",
    "version": 3
   },
   "file_extension": ".py",
   "mimetype": "text/x-python",
   "name": "python",
   "nbconvert_exporter": "python",
   "pygments_lexer": "ipython3",
   "version": "3.7.6"
  }
 },
 "nbformat": 4,
 "nbformat_minor": 4
}
